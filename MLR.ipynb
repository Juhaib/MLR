{
 "cells": [
  {
   "cell_type": "code",
   "execution_count": 4,
   "id": "17ebac58-70c3-49f7-94f4-b858d63ca7f1",
   "metadata": {},
   "outputs": [],
   "source": [
    "import pandas as pd\n",
    "import numpy as np\n",
    "import matplotlib.pyplot as plt\n",
    "import seaborn as sns\n",
    "from sklearn.model_selection import train_test_split\n",
    "from sklearn.linear_model import LinearRegression, Lasso, Ridge\n",
    "from sklearn.metrics import mean_squared_error, r2_score, mean_absolute_error\n",
    "from sklearn.preprocessing import StandardScaler, OneHotEncoder\n",
    "from sklearn.pipeline import Pipeline\n",
    "from sklearn.compose import ColumnTransformer"
   ]
  },
  {
   "cell_type": "code",
   "execution_count": 6,
   "id": "23c67a4a-5fed-4bf5-97b0-7339c4b02a04",
   "metadata": {},
   "outputs": [],
   "source": [
    "# Load dataset\n",
    "data = pd.read_csv('ToyotaCorolla - MLR.csv')"
   ]
  },
  {
   "cell_type": "code",
   "execution_count": 8,
   "id": "531a106e-fe22-4660-aba7-f7b31c088d64",
   "metadata": {},
   "outputs": [
    {
     "name": "stdout",
     "output_type": "stream",
     "text": [
      "<class 'pandas.core.frame.DataFrame'>\n",
      "RangeIndex: 1436 entries, 0 to 1435\n",
      "Data columns (total 11 columns):\n",
      " #   Column     Non-Null Count  Dtype \n",
      "---  ------     --------------  ----- \n",
      " 0   Price      1436 non-null   int64 \n",
      " 1   Age_08_04  1436 non-null   int64 \n",
      " 2   KM         1436 non-null   int64 \n",
      " 3   Fuel_Type  1436 non-null   object\n",
      " 4   HP         1436 non-null   int64 \n",
      " 5   Automatic  1436 non-null   int64 \n",
      " 6   cc         1436 non-null   int64 \n",
      " 7   Doors      1436 non-null   int64 \n",
      " 8   Cylinders  1436 non-null   int64 \n",
      " 9   Gears      1436 non-null   int64 \n",
      " 10  Weight     1436 non-null   int64 \n",
      "dtypes: int64(10), object(1)\n",
      "memory usage: 123.5+ KB\n",
      "Data Info:\n",
      " None\n"
     ]
    }
   ],
   "source": [
    "# Step 1: Exploratory Data Analysis (EDA)\n",
    "print(\"Data Info:\\n\", data.info())"
   ]
  },
  {
   "cell_type": "code",
   "execution_count": 10,
   "id": "a79ca541-bd47-416a-a315-ac5ef0dce7a5",
   "metadata": {},
   "outputs": [
    {
     "name": "stdout",
     "output_type": "stream",
     "text": [
      "\n",
      "Data Summary:\n",
      "               Price    Age_08_04             KM           HP    Automatic  \\\n",
      "count   1436.000000  1436.000000    1436.000000  1436.000000  1436.000000   \n",
      "mean   10730.824513    55.947075   68533.259749   101.502089     0.055710   \n",
      "std     3626.964585    18.599988   37506.448872    14.981080     0.229441   \n",
      "min     4350.000000     1.000000       1.000000    69.000000     0.000000   \n",
      "25%     8450.000000    44.000000   43000.000000    90.000000     0.000000   \n",
      "50%     9900.000000    61.000000   63389.500000   110.000000     0.000000   \n",
      "75%    11950.000000    70.000000   87020.750000   110.000000     0.000000   \n",
      "max    32500.000000    80.000000  243000.000000   192.000000     1.000000   \n",
      "\n",
      "                cc        Doors  Cylinders        Gears      Weight  \n",
      "count   1436.00000  1436.000000     1436.0  1436.000000  1436.00000  \n",
      "mean    1576.85585     4.033426        4.0     5.026462  1072.45961  \n",
      "std      424.38677     0.952677        0.0     0.188510    52.64112  \n",
      "min     1300.00000     2.000000        4.0     3.000000  1000.00000  \n",
      "25%     1400.00000     3.000000        4.0     5.000000  1040.00000  \n",
      "50%     1600.00000     4.000000        4.0     5.000000  1070.00000  \n",
      "75%     1600.00000     5.000000        4.0     5.000000  1085.00000  \n",
      "max    16000.00000     5.000000        4.0     6.000000  1615.00000  \n"
     ]
    }
   ],
   "source": [
    "# Data Summary\n",
    "print(\"\\nData Summary:\\n\", data.describe())"
   ]
  },
  {
   "cell_type": "code",
   "execution_count": 12,
   "id": "414850c5-51ed-47f7-8aec-be8d1a474e65",
   "metadata": {},
   "outputs": [
    {
     "name": "stdout",
     "output_type": "stream",
     "text": [
      "\n",
      "Unique values in Fuel_Type:\n",
      " ['Diesel' 'Petrol' 'CNG']\n",
      "Unique values in Automatic:\n",
      " [0 1]\n"
     ]
    }
   ],
   "source": [
    "# Checking unique values in categorical columns\n",
    "print(\"\\nUnique values in Fuel_Type:\\n\", data['Fuel_Type'].unique())\n",
    "print(\"Unique values in Automatic:\\n\", data['Automatic'].unique())"
   ]
  },
  {
   "cell_type": "code",
   "execution_count": 14,
   "id": "be51130a-0047-4bc8-b757-4e439c0fe038",
   "metadata": {},
   "outputs": [],
   "source": [
    "# Step 2: Data Preprocessing\n",
    "data = pd.get_dummies(data, columns=['Fuel_Type'], drop_first=True)"
   ]
  },
  {
   "cell_type": "code",
   "execution_count": 16,
   "id": "7f2bafee-3bba-459e-b85d-63999a896be9",
   "metadata": {},
   "outputs": [],
   "source": [
    "# Splitting the dataset into features and target variable\n",
    "X = data.drop(['Price'], axis=1)\n",
    "y = data['Price']"
   ]
  },
  {
   "cell_type": "code",
   "execution_count": 18,
   "id": "4d3ff3b8-9660-4f09-81f8-48ee568beee9",
   "metadata": {},
   "outputs": [
    {
     "name": "stdout",
     "output_type": "stream",
     "text": [
      "\n",
      "X columns after encoding:\n",
      " Index(['Age_08_04', 'KM', 'HP', 'Automatic', 'cc', 'Doors', 'Cylinders',\n",
      "       'Gears', 'Weight', 'Fuel_Type_Diesel', 'Fuel_Type_Petrol'],\n",
      "      dtype='object')\n",
      "\n",
      "Data types after encoding:\n",
      " Age_08_04           int64\n",
      "KM                  int64\n",
      "HP                  int64\n",
      "Automatic           int64\n",
      "cc                  int64\n",
      "Doors               int64\n",
      "Cylinders           int64\n",
      "Gears               int64\n",
      "Weight              int64\n",
      "Fuel_Type_Diesel     bool\n",
      "Fuel_Type_Petrol     bool\n",
      "dtype: object\n"
     ]
    }
   ],
   "source": [
    "# Verify the dataset after encoding\n",
    "print(\"\\nX columns after encoding:\\n\", X.columns)\n",
    "print(\"\\nData types after encoding:\\n\", X.dtypes)"
   ]
  },
  {
   "cell_type": "code",
   "execution_count": 20,
   "id": "601b64a2-0c39-4307-b4b2-6bbff24dc046",
   "metadata": {},
   "outputs": [],
   "source": [
    "# Define numerical and categorical columns\n",
    "numeric_features = ['Age_08_04', 'KM', 'HP', 'cc', 'Weight']"
   ]
  },
  {
   "cell_type": "code",
   "execution_count": 22,
   "id": "d5c746e6-eac4-4d47-bd03-014a4cf48ce8",
   "metadata": {},
   "outputs": [],
   "source": [
    "# Preprocessor with StandardScaler for numerical features only\n",
    "preprocessor = ColumnTransformer(\n",
    "    transformers=[\n",
    "        ('num', StandardScaler(), numeric_features)\n",
    "    ],\n",
    "    remainder='passthrough'\n",
    ")"
   ]
  },
  {
   "cell_type": "code",
   "execution_count": 24,
   "id": "06b19250-cd6f-42d8-b04f-4b20beef8a03",
   "metadata": {},
   "outputs": [],
   "source": [
    "# Splitting data into training and testing sets\n",
    "X_train, X_test, y_train, y_test = train_test_split(X, y, test_size=0.2, random_state=42)"
   ]
  },
  {
   "cell_type": "code",
   "execution_count": 28,
   "id": "c7453f59-5d8d-4786-a0d4-785834603804",
   "metadata": {},
   "outputs": [
    {
     "name": "stdout",
     "output_type": "stream",
     "text": [
      "\n",
      "X_train columns and types:\n",
      " Age_08_04           int64\n",
      "KM                  int64\n",
      "HP                  int64\n",
      "Automatic           int64\n",
      "cc                  int64\n",
      "Doors               int64\n",
      "Cylinders           int64\n",
      "Gears               int64\n",
      "Weight              int64\n",
      "Fuel_Type_Diesel     bool\n",
      "Fuel_Type_Petrol     bool\n",
      "dtype: object\n",
      "X_test columns and types:\n",
      " Age_08_04           int64\n",
      "KM                  int64\n",
      "HP                  int64\n",
      "Automatic           int64\n",
      "cc                  int64\n",
      "Doors               int64\n",
      "Cylinders           int64\n",
      "Gears               int64\n",
      "Weight              int64\n",
      "Fuel_Type_Diesel     bool\n",
      "Fuel_Type_Petrol     bool\n",
      "dtype: object\n"
     ]
    }
   ],
   "source": [
    "# Verify the types in X_train and X_test after splitting\n",
    "print(\"\\nX_train columns and types:\\n\", X_train.dtypes)\n",
    "print(\"X_test columns and types:\\n\", X_test.dtypes)"
   ]
  },
  {
   "cell_type": "code",
   "execution_count": 30,
   "id": "d34b8519-f0b5-459e-90c7-e3ed2500b1e4",
   "metadata": {},
   "outputs": [],
   "source": [
    "# Step 3: Model Pipeline Setup and Training\n",
    "# Model 1: Basic Linear Regression with all features\n",
    "pipeline_lr = Pipeline(steps=[('preprocessor', preprocessor), ('regressor', LinearRegression())])\n",
    "pipeline_lr.fit(X_train, y_train)\n",
    "y_pred_lr = pipeline_lr.predict(X_test)"
   ]
  },
  {
   "cell_type": "code",
   "execution_count": 32,
   "id": "d238c2f6-8a39-4380-8f79-10160a762d8f",
   "metadata": {},
   "outputs": [
    {
     "name": "stdout",
     "output_type": "stream",
     "text": [
      "\n",
      "Model 1: Basic Linear Regression\n",
      "MSE: 2203043.823143704\n",
      "R²: 0.8348888040611082\n",
      "MAE: 990.887273919397\n"
     ]
    }
   ],
   "source": [
    "print(\"\\nModel 1: Basic Linear Regression\")\n",
    "print(\"MSE:\", mean_squared_error(y_test, y_pred_lr))\n",
    "print(\"R²:\", r2_score(y_test, y_pred_lr))\n",
    "print(\"MAE:\", mean_absolute_error(y_test, y_pred_lr))"
   ]
  },
  {
   "cell_type": "code",
   "execution_count": 34,
   "id": "7cfbd4cb-266e-4920-9104-9b3671f266ea",
   "metadata": {},
   "outputs": [],
   "source": [
    "# Step 4: Apply Lasso and Ridge Regularization\n",
    "# Lasso Regression\n",
    "pipeline_lasso = Pipeline(steps=[('preprocessor', preprocessor), ('regressor', Lasso(alpha=0.1))])\n",
    "pipeline_lasso.fit(X_train, y_train)\n",
    "y_pred_lasso = pipeline_lasso.predict(X_test)"
   ]
  },
  {
   "cell_type": "code",
   "execution_count": 36,
   "id": "55222b9f-3914-418e-988e-60a34a0b4933",
   "metadata": {},
   "outputs": [
    {
     "name": "stdout",
     "output_type": "stream",
     "text": [
      "\n",
      "Lasso Regression\n",
      "MSE: 2202262.9135491783\n",
      "R²: 0.8349473307757008\n",
      "MAE: 990.8973956603818\n"
     ]
    }
   ],
   "source": [
    "print(\"\\nLasso Regression\")\n",
    "print(\"MSE:\", mean_squared_error(y_test, y_pred_lasso))\n",
    "print(\"R²:\", r2_score(y_test, y_pred_lasso))\n",
    "print(\"MAE:\", mean_absolute_error(y_test, y_pred_lasso))"
   ]
  },
  {
   "cell_type": "code",
   "execution_count": 38,
   "id": "e195ecfc-161e-469e-87e1-aaf76c3bb6bd",
   "metadata": {},
   "outputs": [],
   "source": [
    "# Ridge Regression\n",
    "pipeline_ridge = Pipeline(steps=[('preprocessor', preprocessor), ('regressor', Ridge(alpha=1.0))])\n",
    "pipeline_ridge.fit(X_train, y_train)\n",
    "y_pred_ridge = pipeline_ridge.predict(X_test)"
   ]
  },
  {
   "cell_type": "code",
   "execution_count": 40,
   "id": "143b3663-0992-4b7e-9ad8-9d1b402a1def",
   "metadata": {},
   "outputs": [
    {
     "name": "stdout",
     "output_type": "stream",
     "text": [
      "\n",
      "Ridge Regression\n",
      "MSE: 2198100.663084508\n",
      "R²: 0.8352592783387948\n",
      "MAE: 990.7191037857042\n"
     ]
    }
   ],
   "source": [
    "print(\"\\nRidge Regression\")\n",
    "print(\"MSE:\", mean_squared_error(y_test, y_pred_ridge))\n",
    "print(\"R²:\", r2_score(y_test, y_pred_ridge))\n",
    "print(\"MAE:\", mean_absolute_error(y_test, y_pred_ridge))"
   ]
  }
 ],
 "metadata": {
  "kernelspec": {
   "display_name": "Python 3 (ipykernel)",
   "language": "python",
   "name": "python3"
  },
  "language_info": {
   "codemirror_mode": {
    "name": "ipython",
    "version": 3
   },
   "file_extension": ".py",
   "mimetype": "text/x-python",
   "name": "python",
   "nbconvert_exporter": "python",
   "pygments_lexer": "ipython3",
   "version": "3.12.4"
  }
 },
 "nbformat": 4,
 "nbformat_minor": 5
}
